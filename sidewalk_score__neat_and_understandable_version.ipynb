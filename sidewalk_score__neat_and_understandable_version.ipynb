{
 "cells": [
  {
   "cell_type": "code",
   "execution_count": 55,
   "metadata": {},
   "outputs": [],
   "source": [
    "import fiona\n",
    "import numpy as np\n",
    "import pandas as pd\n",
    "import geopandas as gpd\n",
    "from dbfread import DBF\n",
    "import matplotlib.pyplot as plt\n",
    "import re\n",
    "from pprint import pprint\n",
    "from shapely.geometry import shape, Point, Polygon, MultiPolygon\n",
    "\n",
    "import keras\n",
    "from keras.models import Sequential\n",
    "from keras.layers import Dense, Activation\n",
    "from keras.optimizers import SGD\n",
    "\n",
    "from sklearn.model_selection import train_test_split\n",
    "\n",
    "%matplotlib inline"
   ]
  },
  {
   "cell_type": "markdown",
   "metadata": {},
   "source": [
    "# Load and clean data"
   ]
  },
  {
   "cell_type": "code",
   "execution_count": 24,
   "metadata": {},
   "outputs": [],
   "source": [
    "df = pd.DataFrame(columns=[\"centroid\",\"lat\",\"lon\",\"income\",\"trees\",\"reports\",\"damage\"])"
   ]
  },
  {
   "cell_type": "markdown",
   "metadata": {},
   "source": [
    "**Sidewalks**"
   ]
  },
  {
   "cell_type": "code",
   "execution_count": 27,
   "metadata": {},
   "outputs": [],
   "source": [
    "sidewalks = gpd.read_file('Sidewalk_Inventory/Sidewalk_Inventory.shp')\n",
    "sidewalks.set_index(\"SWK_ID\", inplace=True)\n",
    "sidewalks = sidewalks[sidewalks.geometry.isna() == False] # remove nans\n",
    "\n",
    "sidewalks_damages = gpd.read_file('Sidewalks_/Sidewalks_.shp') # contains updated damage scores\n",
    "sidewalks_damages.set_index(\"SWK_ID\", inplace=True)\n",
    "sidewalks_damages = sidewalks_damages[~sidewalks_damages.index.duplicated(keep='first')] # remove duplicate indices\n",
    "\n",
    "# sidewalks['damage'] = sidewalks_damages.New_SCI\n",
    "\n",
    "df.centroid = sidewalks.geometry.centroid\n",
    "df.lon = df.centroid.map(lambda x: x.x)\n",
    "df.lat = df.centroid.map(lambda x: x.y) # automatically sets index of df to SWK_ID\n",
    "\n",
    "df.damage = sidewalks_damages.New_SCI"
   ]
  },
  {
   "cell_type": "markdown",
   "metadata": {},
   "source": [
    "**Income**"
   ]
  },
  {
   "cell_type": "code",
   "execution_count": 28,
   "metadata": {},
   "outputs": [],
   "source": [
    "income_regions = gpd.read_file('Boston_Neighborhoods/Boston_Neighborhoods.shp')\n",
    "incomes = {1:68209, 2:76968, 3:32103, 4:38235, 5:64514, 6:64514, 7:64514, 8:89916, 9:26883, \n",
    "           10:76101, 11:99029, 12:52733, 13:92771, 14:93257, 15:93298, 16:64514, 17:35201, 18:56429, \n",
    "           19:81220, 20:67408, 21:44709, 22:47937, 23:120359, 24:86025, 25:42792, 26:0 }\n",
    "\n",
    "def which_neighborhood_income(cent):\n",
    "    for i, region in income_regions.iterrows():\n",
    "        shp = shape(region['geometry'])\n",
    "        if cent.within(shp):\n",
    "            return incomes[region.OBJECTID]\n",
    "\n",
    "df.income = df.centroid.apply(which_neighborhood_income)"
   ]
  },
  {
   "cell_type": "markdown",
   "metadata": {},
   "source": [
    "**Reports**"
   ]
  },
  {
   "cell_type": "code",
   "execution_count": null,
   "metadata": {},
   "outputs": [],
   "source": [
    "reports = pd.read_csv('Sidewalk_Repair_311_Cases.csv')\n",
    "prog = re.compile(\"(?<=\\/)20[0-9][0-9]\")\n",
    "def extract_date(s):\n",
    "    d = prog.search(s)\n",
    "    return d.group(0)\n",
    "reports['year'] = reports.open_dt.map(extract_date)\n",
    "\n",
    "# abandon for now, taking too long"
   ]
  },
  {
   "cell_type": "markdown",
   "metadata": {},
   "source": [
    "**Trees**"
   ]
  },
  {
   "cell_type": "code",
   "execution_count": null,
   "metadata": {},
   "outputs": [],
   "source": [
    "# abandon for now"
   ]
  },
  {
   "cell_type": "markdown",
   "metadata": {},
   "source": [
    "# Train"
   ]
  },
  {
   "cell_type": "code",
   "execution_count": 29,
   "metadata": {
    "scrolled": true
   },
   "outputs": [
    {
     "data": {
      "text/html": [
       "<div>\n",
       "<style scoped>\n",
       "    .dataframe tbody tr th:only-of-type {\n",
       "        vertical-align: middle;\n",
       "    }\n",
       "\n",
       "    .dataframe tbody tr th {\n",
       "        vertical-align: top;\n",
       "    }\n",
       "\n",
       "    .dataframe thead th {\n",
       "        text-align: right;\n",
       "    }\n",
       "</style>\n",
       "<table border=\"1\" class=\"dataframe\">\n",
       "  <thead>\n",
       "    <tr style=\"text-align: right;\">\n",
       "      <th></th>\n",
       "      <th>centroid</th>\n",
       "      <th>lat</th>\n",
       "      <th>lon</th>\n",
       "      <th>income</th>\n",
       "      <th>trees</th>\n",
       "      <th>reports</th>\n",
       "      <th>damage</th>\n",
       "    </tr>\n",
       "    <tr>\n",
       "      <th>SWK_ID</th>\n",
       "      <th></th>\n",
       "      <th></th>\n",
       "      <th></th>\n",
       "      <th></th>\n",
       "      <th></th>\n",
       "      <th></th>\n",
       "      <th></th>\n",
       "    </tr>\n",
       "  </thead>\n",
       "  <tbody>\n",
       "    <tr>\n",
       "      <th>1</th>\n",
       "      <td>POINT (-71.06990989825789 42.38122085141686)</td>\n",
       "      <td>42.381221</td>\n",
       "      <td>-71.069910</td>\n",
       "      <td>92771.0</td>\n",
       "      <td>NaN</td>\n",
       "      <td>NaN</td>\n",
       "      <td>85.0</td>\n",
       "    </tr>\n",
       "    <tr>\n",
       "      <th>2</th>\n",
       "      <td>POINT (-71.06964788684151 42.38059604674949)</td>\n",
       "      <td>42.380596</td>\n",
       "      <td>-71.069648</td>\n",
       "      <td>92771.0</td>\n",
       "      <td>NaN</td>\n",
       "      <td>NaN</td>\n",
       "      <td>47.0</td>\n",
       "    </tr>\n",
       "    <tr>\n",
       "      <th>3</th>\n",
       "      <td>POINT (-71.06968514333657 42.38068558482508)</td>\n",
       "      <td>42.380686</td>\n",
       "      <td>-71.069685</td>\n",
       "      <td>92771.0</td>\n",
       "      <td>NaN</td>\n",
       "      <td>NaN</td>\n",
       "      <td>64.0</td>\n",
       "    </tr>\n",
       "    <tr>\n",
       "      <th>4</th>\n",
       "      <td>POINT (-71.06868507296026 42.38179081797815)</td>\n",
       "      <td>42.381791</td>\n",
       "      <td>-71.068685</td>\n",
       "      <td>92771.0</td>\n",
       "      <td>NaN</td>\n",
       "      <td>NaN</td>\n",
       "      <td>56.0</td>\n",
       "    </tr>\n",
       "    <tr>\n",
       "      <th>5</th>\n",
       "      <td>POINT (-71.07020034726331 42.38110320519791)</td>\n",
       "      <td>42.381103</td>\n",
       "      <td>-71.070200</td>\n",
       "      <td>92771.0</td>\n",
       "      <td>NaN</td>\n",
       "      <td>NaN</td>\n",
       "      <td>87.0</td>\n",
       "    </tr>\n",
       "  </tbody>\n",
       "</table>\n",
       "</div>"
      ],
      "text/plain": [
       "                                            centroid        lat        lon  \\\n",
       "SWK_ID                                                                       \n",
       "1       POINT (-71.06990989825789 42.38122085141686)  42.381221 -71.069910   \n",
       "2       POINT (-71.06964788684151 42.38059604674949)  42.380596 -71.069648   \n",
       "3       POINT (-71.06968514333657 42.38068558482508)  42.380686 -71.069685   \n",
       "4       POINT (-71.06868507296026 42.38179081797815)  42.381791 -71.068685   \n",
       "5       POINT (-71.07020034726331 42.38110320519791)  42.381103 -71.070200   \n",
       "\n",
       "         income trees reports  damage  \n",
       "SWK_ID                                 \n",
       "1       92771.0   NaN     NaN    85.0  \n",
       "2       92771.0   NaN     NaN    47.0  \n",
       "3       92771.0   NaN     NaN    64.0  \n",
       "4       92771.0   NaN     NaN    56.0  \n",
       "5       92771.0   NaN     NaN    87.0  "
      ]
     },
     "execution_count": 29,
     "metadata": {},
     "output_type": "execute_result"
    }
   ],
   "source": [
    "df.head()"
   ]
  },
  {
   "cell_type": "code",
   "execution_count": 115,
   "metadata": {},
   "outputs": [],
   "source": [
    "# normalize data\n",
    "df = df[df.income.isna()==False]\n",
    "df = df[df.damage.isna()==False]\n",
    "df_norm = (df[['lat','lon','income','damage']] - df[['lat','lon','income','damage']].mean()) / (df[['lat','lon','income','damage']].max() - df[['lat','lon','income','damage']].min())"
   ]
  },
  {
   "cell_type": "code",
   "execution_count": 116,
   "metadata": {},
   "outputs": [
    {
     "data": {
      "text/html": [
       "<div>\n",
       "<style scoped>\n",
       "    .dataframe tbody tr th:only-of-type {\n",
       "        vertical-align: middle;\n",
       "    }\n",
       "\n",
       "    .dataframe tbody tr th {\n",
       "        vertical-align: top;\n",
       "    }\n",
       "\n",
       "    .dataframe thead th {\n",
       "        text-align: right;\n",
       "    }\n",
       "</style>\n",
       "<table border=\"1\" class=\"dataframe\">\n",
       "  <thead>\n",
       "    <tr style=\"text-align: right;\">\n",
       "      <th></th>\n",
       "      <th>lat</th>\n",
       "      <th>lon</th>\n",
       "      <th>income</th>\n",
       "      <th>damage</th>\n",
       "    </tr>\n",
       "  </thead>\n",
       "  <tbody>\n",
       "    <tr>\n",
       "      <th>count</th>\n",
       "      <td>2.316800e+04</td>\n",
       "      <td>2.316800e+04</td>\n",
       "      <td>2.316800e+04</td>\n",
       "      <td>2.316800e+04</td>\n",
       "    </tr>\n",
       "    <tr>\n",
       "      <th>mean</th>\n",
       "      <td>2.559122e-12</td>\n",
       "      <td>1.930515e-12</td>\n",
       "      <td>1.840149e-17</td>\n",
       "      <td>1.778810e-17</td>\n",
       "    </tr>\n",
       "    <tr>\n",
       "      <th>std</th>\n",
       "      <td>2.195340e-01</td>\n",
       "      <td>2.086977e-01</td>\n",
       "      <td>2.192332e-01</td>\n",
       "      <td>2.966664e-01</td>\n",
       "    </tr>\n",
       "    <tr>\n",
       "      <th>min</th>\n",
       "      <td>-5.307569e-01</td>\n",
       "      <td>-4.719383e-01</td>\n",
       "      <td>-3.719696e-01</td>\n",
       "      <td>-6.537785e-01</td>\n",
       "    </tr>\n",
       "    <tr>\n",
       "      <th>25%</th>\n",
       "      <td>-1.867833e-01</td>\n",
       "      <td>-1.654973e-01</td>\n",
       "      <td>-1.467353e-01</td>\n",
       "      <td>-2.037785e-01</td>\n",
       "    </tr>\n",
       "    <tr>\n",
       "      <th>50%</th>\n",
       "      <td>2.746877e-03</td>\n",
       "      <td>4.750414e-02</td>\n",
       "      <td>3.060431e-02</td>\n",
       "      <td>6.622151e-02</td>\n",
       "    </tr>\n",
       "    <tr>\n",
       "      <th>75%</th>\n",
       "      <td>1.816135e-01</td>\n",
       "      <td>1.601310e-01</td>\n",
       "      <td>1.638364e-01</td>\n",
       "      <td>2.562215e-01</td>\n",
       "    </tr>\n",
       "    <tr>\n",
       "      <th>max</th>\n",
       "      <td>4.692431e-01</td>\n",
       "      <td>5.280617e-01</td>\n",
       "      <td>6.280304e-01</td>\n",
       "      <td>3.462215e-01</td>\n",
       "    </tr>\n",
       "  </tbody>\n",
       "</table>\n",
       "</div>"
      ],
      "text/plain": [
       "                lat           lon        income        damage\n",
       "count  2.316800e+04  2.316800e+04  2.316800e+04  2.316800e+04\n",
       "mean   2.559122e-12  1.930515e-12  1.840149e-17  1.778810e-17\n",
       "std    2.195340e-01  2.086977e-01  2.192332e-01  2.966664e-01\n",
       "min   -5.307569e-01 -4.719383e-01 -3.719696e-01 -6.537785e-01\n",
       "25%   -1.867833e-01 -1.654973e-01 -1.467353e-01 -2.037785e-01\n",
       "50%    2.746877e-03  4.750414e-02  3.060431e-02  6.622151e-02\n",
       "75%    1.816135e-01  1.601310e-01  1.638364e-01  2.562215e-01\n",
       "max    4.692431e-01  5.280617e-01  6.280304e-01  3.462215e-01"
      ]
     },
     "execution_count": 116,
     "metadata": {},
     "output_type": "execute_result"
    }
   ],
   "source": [
    "df_norm.describe()"
   ]
  },
  {
   "cell_type": "code",
   "execution_count": 117,
   "metadata": {},
   "outputs": [],
   "source": [
    "train, test = train_test_split(df_norm, test_size=0.2)"
   ]
  },
  {
   "cell_type": "code",
   "execution_count": 130,
   "metadata": {},
   "outputs": [],
   "source": [
    "model = Sequential()\n",
    "model.add(Dense(10, input_dim=3))\n",
    "model.add(Dense(10))\n",
    "model.add(Dense(10))\n",
    "model.add(Dense(1))\n",
    "\n",
    "sgd = SGD(lr=0.001, clipnorm=1.)\n",
    "\n",
    "model.compile(optimizer=sgd,\n",
    "              loss='msle')"
   ]
  },
  {
   "cell_type": "code",
   "execution_count": 144,
   "metadata": {},
   "outputs": [
    {
     "name": "stdout",
     "output_type": "stream",
     "text": [
      "Epoch 1/20\n",
      "18534/18534 [==============================] - 2s 81us/step - loss: 0.0134\n",
      "Epoch 2/20\n",
      "18534/18534 [==============================] - 1s 78us/step - loss: 0.0134\n",
      "Epoch 3/20\n",
      "18534/18534 [==============================] - 2s 85us/step - loss: 0.0134\n",
      "Epoch 4/20\n",
      "18534/18534 [==============================] - 1s 76us/step - loss: 0.0134\n",
      "Epoch 5/20\n",
      "18534/18534 [==============================] - 2s 82us/step - loss: 0.0134\n",
      "Epoch 6/20\n",
      "18534/18534 [==============================] - 1s 76us/step - loss: 0.0134\n",
      "Epoch 7/20\n",
      "18534/18534 [==============================] - 1s 72us/step - loss: 0.0134\n",
      "Epoch 8/20\n",
      "18534/18534 [==============================] - 1s 72us/step - loss: 0.0134\n",
      "Epoch 9/20\n",
      "18534/18534 [==============================] - 1s 73us/step - loss: 0.0134\n",
      "Epoch 10/20\n",
      "18534/18534 [==============================] - 2s 92us/step - loss: 0.0134\n",
      "Epoch 11/20\n",
      "18534/18534 [==============================] - 2s 103us/step - loss: 0.0134 1s - loss: 0.01 - ETA: 0s \n",
      "Epoch 12/20\n",
      "18534/18534 [==============================] - 2s 87us/step - loss: 0.0134\n",
      "Epoch 13/20\n",
      "18534/18534 [==============================] - 1s 74us/step - loss: 0.0134\n",
      "Epoch 14/20\n",
      "18534/18534 [==============================] - 1s 72us/step - loss: 0.0134\n",
      "Epoch 15/20\n",
      "18534/18534 [==============================] - 1s 72us/step - loss: 0.0134\n",
      "Epoch 16/20\n",
      "18534/18534 [==============================] - 1s 73us/step - loss: 0.0134\n",
      "Epoch 17/20\n",
      "18534/18534 [==============================] - 1s 74us/step - loss: 0.0134\n",
      "Epoch 18/20\n",
      "18534/18534 [==============================] - 1s 77us/step - loss: 0.0134\n",
      "Epoch 19/20\n",
      "18534/18534 [==============================] - 1s 77us/step - loss: 0.0134\n",
      "Epoch 20/20\n",
      "18534/18534 [==============================] - 2s 82us/step - loss: 0.0134\n"
     ]
    }
   ],
   "source": [
    "history = model.fit(train[['lat','lon','income']], train.damage, epochs=20, batch_size=32)"
   ]
  },
  {
   "cell_type": "code",
   "execution_count": 145,
   "metadata": {},
   "outputs": [
    {
     "name": "stdout",
     "output_type": "stream",
     "text": [
      "4634/4634 [==============================] - 0s 13us/step\n"
     ]
    }
   ],
   "source": [
    "score = model.evaluate(test[['lat','lon','income']], test.damage, batch_size=128)"
   ]
  },
  {
   "cell_type": "code",
   "execution_count": 146,
   "metadata": {
    "scrolled": true
   },
   "outputs": [
    {
     "data": {
      "text/plain": [
       "0.013495234106126715"
      ]
     },
     "execution_count": 146,
     "metadata": {},
     "output_type": "execute_result"
    }
   ],
   "source": [
    "score"
   ]
  },
  {
   "cell_type": "code",
   "execution_count": 147,
   "metadata": {},
   "outputs": [
    {
     "data": {
      "text/plain": [
       "['loss']"
      ]
     },
     "execution_count": 147,
     "metadata": {},
     "output_type": "execute_result"
    }
   ],
   "source": [
    "history.history.keys()"
   ]
  },
  {
   "cell_type": "code",
   "execution_count": 148,
   "metadata": {},
   "outputs": [
    {
     "data": {
      "text/plain": [
       "[<matplotlib.lines.Line2D at 0x155cf1510>]"
      ]
     },
     "execution_count": 148,
     "metadata": {},
     "output_type": "execute_result"
    },
    {
     "data": {
      "image/png": "[encoded data removed]",
      "text/plain": [
       "<Figure size 432x288 with 1 Axes>"
      ]
     },
     "metadata": {},
     "output_type": "display_data"
    }
   ],
   "source": [
    "plt.plot(history.history['loss'])"
   ]
  },
  {
   "cell_type": "code",
   "execution_count": null,
   "metadata": {},
   "outputs": [],
   "source": []
  }
 ],
 "metadata": {
  "kernelspec": {
   "display_name": "Python 2",
   "language": "python",
   "name": "python2"
  },
  "language_info": {
   "codemirror_mode": {
    "name": "ipython",
    "version": 2
   },
   "file_extension": ".py",
   "mimetype": "text/x-python",
   "name": "python",
   "nbconvert_exporter": "python",
   "pygments_lexer": "ipython2",
   "version": "2.7.14"
  }
 },
 "nbformat": 4,
 "nbformat_minor": 2
}
