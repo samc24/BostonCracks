{
 "cells": [
  {
   "cell_type": "code",
   "execution_count": 1,
   "metadata": {},
   "outputs": [],
   "source": [
    "import torch\n",
    "from torch.autograd import Variable\n",
    "import PIL.Image as Image\n",
    "import torchvision\n",
    "from torchvision import datasets, transforms\n",
    "from deeplabv3.model.deeplabv3 import DeepLabV3\n",
    "import numpy as np\n",
    "import cv2\n",
    "#from deeplabv3.utils.utils import label_img_to_color, crop_to_sidewalk\n",
    "import pickle\n",
    "\n",
    "DEEPLAB_PRETRAINED_PATH = '/Users/Devin/Documents/ml/bostonhacks2018/deeplabv3/pretrained_models/'\n",
    "BASE_PATH = '/Users/Devin/Documents/ml/bostonhacks2018/'"
   ]
  },
  {
   "cell_type": "code",
   "execution_count": 2,
   "metadata": {},
   "outputs": [
    {
     "name": "stdout",
     "output_type": "stream",
     "text": [
      "pretrained resnet, 18\n"
     ]
    }
   ],
   "source": [
    "model_id = '1'\n",
    "project_dir = '/Users/Devin/Documents/ml/bostonhacks2018'\n",
    "deeplab_model = DeepLabV3(model_id, project_dir)"
   ]
  },
  {
   "cell_type": "code",
   "execution_count": 3,
   "metadata": {
    "collapsed": true
   },
   "outputs": [],
   "source": [
    "# Apply pretrained deeplab weights\n",
    "deeplab_model.load_state_dict(\n",
    "    torch.load(\n",
    "        DEEPLAB_PRETRAINED_PATH + 'model_13_2_2_2_epoch_580.pth', \n",
    "        map_location='cpu'\n",
    "    )\n",
    ")\n"
   ]
  },
  {
   "cell_type": "code",
   "execution_count": 4,
   "metadata": {
    "collapsed": true
   },
   "outputs": [],
   "source": [
    "TEST_IMAGES_PATH = '/Users/Devin/Documents/ml/bostonhacks2018/test-images'\n",
    "\n",
    "transform = transforms.Compose([\n",
    "    transforms.ToTensor(),\n",
    "])\n",
    "\n",
    "testset = torchvision.datasets.ImageFolder(TEST_IMAGES_PATH, transform=transform)\n",
    "testloader = torch.utils.data.DataLoader(testset, batch_size=2, shuffle=False, num_workers=2)"
   ]
  },
  {
   "cell_type": "code",
   "execution_count": null,
   "metadata": {
    "collapsed": true
   },
   "outputs": [],
   "source": [
    "# Make predictions\n",
    "preds_list = []\n",
    "imgs_list = []\n",
    "for loaded in testloader:\n",
    "    imgs = Variable(loaded[0])\n",
    "    preds_list.append(deeplab_model(imgs))\n",
    "    imgs_list.append(imgs)"
   ]
  },
  {
   "cell_type": "code",
   "execution_count": 84,
   "metadata": {
    "collapsed": true
   },
   "outputs": [],
   "source": [
    "def crop_img_to_sidewalk(label_img, img):\n",
    "    non_side_color = [255, 255, 255] #transparent\n",
    "\n",
    "    img_height, img_width = label_img.shape\n",
    "\n",
    "    img_color = np.zeros((img_height, img_width, 3))\n",
    "    for row in range(img_height):\n",
    "        for col in range(img_width):\n",
    "            label = label_img[row, col]\n",
    "            img_rgb = img[row, col]\n",
    "\n",
    "            if label == 1: # is sidewalk\n",
    "                img_color[row, col] = img_rgb\n",
    "            else:\n",
    "                img_color[row, col] = np.array(non_side_color)\n",
    "\n",
    "    return img_color\n",
    "\n",
    "def white_to_transparent(img_path):\n",
    "    img = Image.open(img_path)\n",
    "    img = img.convert(\"RGBA\")\n",
    "\n",
    "    pixdata = img.load()\n",
    "\n",
    "    width, height = img.size\n",
    "    for y in range(height):\n",
    "        for x in range(width):\n",
    "            if pixdata[x, y] == (255, 255, 255, 255):\n",
    "                pixdata[x, y] = (255, 255, 255, 0)\n",
    "\n",
    "    img.save(img_path, \"PNG\")\n",
    "\n",
    "def create_sidewalk_segment(outputs, imgs):\n",
    "    outputs = outputs.data.cpu().numpy()\n",
    "    pred_label_imgs = np.argmax(outputs, axis=1) # (shape: (batch_size, img_h, img_w))\n",
    "    pred_label_imgs = pred_label_imgs.astype(np.uint8)\n",
    "\n",
    "    for i in range(pred_label_imgs.shape[0]):\n",
    "        pred_label_img = pred_label_imgs[i] # (shape: (img_h, img_w))\n",
    "        #img_id = img_ids[i]\n",
    "        img = imgs[i] # (shape: (3, img_h, img_w))\n",
    "\n",
    "        img = img.data.cpu().numpy()\n",
    "        img = np.transpose(img, (1, 2, 0)) # (shape: (img_h, img_w, 3))\n",
    "        #img = img*np.array([0.229, 0.224, 0.225])\n",
    "        #img = img + np.array([0.485, 0.456, 0.406])\n",
    "        img = img*255.0\n",
    "        img = img.astype(np.uint8)\n",
    "\n",
    "        pred_label_img_color = crop_img_to_sidewalk(pred_label_img, img)\n",
    "\n",
    "        overlayed_img = pred_label_img_color #0.35*img + 0.65*\n",
    "        overlayed_img = overlayed_img.astype(np.uint8)\n",
    "            \n",
    "        img_name = BASE_PATH + str(i) + \"_overlayed.png\"\n",
    "        cv2.imwrite(img_name, overlayed_img) #i was img_id\n",
    "        white_to_transparent(img_name)\n",
    "        "
   ]
  },
  {
   "cell_type": "code",
   "execution_count": 86,
   "metadata": {},
   "outputs": [],
   "source": [
    "create_sidewalk_segment(preds_list[0], imgs_list[0])"
   ]
  },
  {
   "cell_type": "code",
   "execution_count": null,
   "metadata": {
    "collapsed": true
   },
   "outputs": [],
   "source": []
  }
 ],
 "metadata": {
  "kernelspec": {
   "display_name": "Python 3",
   "language": "python",
   "name": "python3"
  },
  "language_info": {
   "codemirror_mode": {
    "name": "ipython",
    "version": 3
   },
   "file_extension": ".py",
   "mimetype": "text/x-python",
   "name": "python",
   "nbconvert_exporter": "python",
   "pygments_lexer": "ipython3",
   "version": "3.6.1"
  }
 },
 "nbformat": 4,
 "nbformat_minor": 2
}
